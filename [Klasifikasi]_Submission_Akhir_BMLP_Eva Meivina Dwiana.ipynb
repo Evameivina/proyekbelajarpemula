{
  "nbformat": 4,
  "nbformat_minor": 0,
  "metadata": {
    "colab": {
      "provenance": []
    },
    "kernelspec": {
      "name": "python3",
      "display_name": "Python 3"
    },
    "language_info": {
      "name": "python"
    }
  },
  "cells": [
    {
      "cell_type": "markdown",
      "source": [
        "# **1. Import Library**"
      ],
      "metadata": {
        "id": "fKADPWcFKlj3"
      }
    },
    {
      "cell_type": "markdown",
      "source": [
        "Pada tahap ini, Anda perlu mengimpor beberapa pustaka (library) Python yang dibutuhkan untuk analisis data dan pembangunan model machine learning."
      ],
      "metadata": {
        "id": "LgA3ERnVn84N"
      }
    },
    {
      "cell_type": "code",
      "source": [
        "import numpy as np\n",
        "import pandas as pd\n",
        "import seaborn as sns\n",
        "import matplotlib.pyplot as plt\n",
        "\n",
        "from sklearn.svm import SVC\n",
        "from sklearn.tree import DecisionTreeClassifier\n",
        "from sklearn.preprocessing import LabelEncoder, StandardScaler, MinMaxScaler\n",
        "from sklearn.model_selection import train_test_split, RandomizedSearchCV, GridSearchCV\n",
        "from sklearn.metrics import confusion_matrix, accuracy_score, precision_score, recall_score, f1_score, classification_report, ConfusionMatrixDisplay\n",
        "from sklearn.ensemble import RandomForestClassifier\n",
        "from sklearn.naive_bayes import GaussianNB\n",
        "from sklearn.neighbors import KNeighborsClassifier"
      ],
      "metadata": {
        "id": "BlmvjLY9M4Yj"
      },
      "execution_count": 1,
      "outputs": []
    },
    {
      "cell_type": "markdown",
      "source": [
        "# **2. Memuat Dataset dari Hasil Clustering**"
      ],
      "metadata": {
        "id": "f3YIEnAFKrKL"
      }
    },
    {
      "cell_type": "markdown",
      "source": [
        "Memuat dataset hasil clustering dari file CSV ke dalam variabel DataFrame."
      ],
      "metadata": {
        "id": "Ey3ItwTen_7E"
      }
    },
    {
      "cell_type": "code",
      "source": [
        "dataset_inisiasi_df = pd.read_csv(\"https://raw.githubusercontent.com/Evameivina/proyekbelajarpemula/refs/heads/main/dataset_inisiasi.csv\")\n",
        "dataset_inisiasi_df.head()"
      ],
      "metadata": {
        "id": "GHCGNTyrM5fS",
        "colab": {
          "base_uri": "https://localhost:8080/",
          "height": 313
        },
        "outputId": "6674c429-530b-46af-94be-e884956d6275"
      },
      "execution_count": 2,
      "outputs": [
        {
          "output_type": "execute_result",
          "data": {
            "text/plain": [
              "  TransactionID AccountID CustomerOccupation  TransactionAmount  \\\n",
              "0      TX000001   AC00128             Doctor              14.09   \n",
              "1      TX000002   AC00455             Doctor             376.24   \n",
              "2      TX000003   AC00019            Student             126.29   \n",
              "3      TX000004   AC00070            Student             184.50   \n",
              "4      TX000005   AC00411            Student              13.45   \n",
              "\n",
              "       TransactionDate TransactionType   Location DeviceID      IP Address  \\\n",
              "0  2023-04-11 16:29:14           Debit  San Diego  D000380  162.198.218.92   \n",
              "1  2023-06-27 16:44:19           Debit    Houston  D000051     13.149.61.4   \n",
              "2  2023-07-10 18:16:08           Debit       Mesa  D000235  215.97.143.157   \n",
              "3  2023-05-05 16:32:11           Debit    Raleigh  D000187  200.13.225.150   \n",
              "4  2023-10-16 17:51:24          Credit    Atlanta  D000308    65.164.3.100   \n",
              "\n",
              "  MerchantID Channel  CustomerAge  TransactionDuration  LoginAttempts  \\\n",
              "0       M015     ATM           70                   81              1   \n",
              "1       M052     ATM           68                  141              1   \n",
              "2       M009  Online           19                   56              1   \n",
              "3       M002  Online           26                   25              1   \n",
              "4       M091  Online           26                  198              1   \n",
              "\n",
              "   AccountBalance PreviousTransactionDate  Cluster  \n",
              "0         5112.21     2024-11-04 08:08:08        0  \n",
              "1        13758.91     2024-11-04 08:09:35        2  \n",
              "2         1122.35     2024-11-04 08:07:04        1  \n",
              "3         8569.06     2024-11-04 08:09:06        0  \n",
              "4         7429.40     2024-11-04 08:06:39        0  "
            ],
            "text/html": [
              "\n",
              "  <div id=\"df-6cda16a7-2c2f-4cd3-990f-b58db64608a3\" class=\"colab-df-container\">\n",
              "    <div>\n",
              "<style scoped>\n",
              "    .dataframe tbody tr th:only-of-type {\n",
              "        vertical-align: middle;\n",
              "    }\n",
              "\n",
              "    .dataframe tbody tr th {\n",
              "        vertical-align: top;\n",
              "    }\n",
              "\n",
              "    .dataframe thead th {\n",
              "        text-align: right;\n",
              "    }\n",
              "</style>\n",
              "<table border=\"1\" class=\"dataframe\">\n",
              "  <thead>\n",
              "    <tr style=\"text-align: right;\">\n",
              "      <th></th>\n",
              "      <th>TransactionID</th>\n",
              "      <th>AccountID</th>\n",
              "      <th>CustomerOccupation</th>\n",
              "      <th>TransactionAmount</th>\n",
              "      <th>TransactionDate</th>\n",
              "      <th>TransactionType</th>\n",
              "      <th>Location</th>\n",
              "      <th>DeviceID</th>\n",
              "      <th>IP Address</th>\n",
              "      <th>MerchantID</th>\n",
              "      <th>Channel</th>\n",
              "      <th>CustomerAge</th>\n",
              "      <th>TransactionDuration</th>\n",
              "      <th>LoginAttempts</th>\n",
              "      <th>AccountBalance</th>\n",
              "      <th>PreviousTransactionDate</th>\n",
              "      <th>Cluster</th>\n",
              "    </tr>\n",
              "  </thead>\n",
              "  <tbody>\n",
              "    <tr>\n",
              "      <th>0</th>\n",
              "      <td>TX000001</td>\n",
              "      <td>AC00128</td>\n",
              "      <td>Doctor</td>\n",
              "      <td>14.09</td>\n",
              "      <td>2023-04-11 16:29:14</td>\n",
              "      <td>Debit</td>\n",
              "      <td>San Diego</td>\n",
              "      <td>D000380</td>\n",
              "      <td>162.198.218.92</td>\n",
              "      <td>M015</td>\n",
              "      <td>ATM</td>\n",
              "      <td>70</td>\n",
              "      <td>81</td>\n",
              "      <td>1</td>\n",
              "      <td>5112.21</td>\n",
              "      <td>2024-11-04 08:08:08</td>\n",
              "      <td>0</td>\n",
              "    </tr>\n",
              "    <tr>\n",
              "      <th>1</th>\n",
              "      <td>TX000002</td>\n",
              "      <td>AC00455</td>\n",
              "      <td>Doctor</td>\n",
              "      <td>376.24</td>\n",
              "      <td>2023-06-27 16:44:19</td>\n",
              "      <td>Debit</td>\n",
              "      <td>Houston</td>\n",
              "      <td>D000051</td>\n",
              "      <td>13.149.61.4</td>\n",
              "      <td>M052</td>\n",
              "      <td>ATM</td>\n",
              "      <td>68</td>\n",
              "      <td>141</td>\n",
              "      <td>1</td>\n",
              "      <td>13758.91</td>\n",
              "      <td>2024-11-04 08:09:35</td>\n",
              "      <td>2</td>\n",
              "    </tr>\n",
              "    <tr>\n",
              "      <th>2</th>\n",
              "      <td>TX000003</td>\n",
              "      <td>AC00019</td>\n",
              "      <td>Student</td>\n",
              "      <td>126.29</td>\n",
              "      <td>2023-07-10 18:16:08</td>\n",
              "      <td>Debit</td>\n",
              "      <td>Mesa</td>\n",
              "      <td>D000235</td>\n",
              "      <td>215.97.143.157</td>\n",
              "      <td>M009</td>\n",
              "      <td>Online</td>\n",
              "      <td>19</td>\n",
              "      <td>56</td>\n",
              "      <td>1</td>\n",
              "      <td>1122.35</td>\n",
              "      <td>2024-11-04 08:07:04</td>\n",
              "      <td>1</td>\n",
              "    </tr>\n",
              "    <tr>\n",
              "      <th>3</th>\n",
              "      <td>TX000004</td>\n",
              "      <td>AC00070</td>\n",
              "      <td>Student</td>\n",
              "      <td>184.50</td>\n",
              "      <td>2023-05-05 16:32:11</td>\n",
              "      <td>Debit</td>\n",
              "      <td>Raleigh</td>\n",
              "      <td>D000187</td>\n",
              "      <td>200.13.225.150</td>\n",
              "      <td>M002</td>\n",
              "      <td>Online</td>\n",
              "      <td>26</td>\n",
              "      <td>25</td>\n",
              "      <td>1</td>\n",
              "      <td>8569.06</td>\n",
              "      <td>2024-11-04 08:09:06</td>\n",
              "      <td>0</td>\n",
              "    </tr>\n",
              "    <tr>\n",
              "      <th>4</th>\n",
              "      <td>TX000005</td>\n",
              "      <td>AC00411</td>\n",
              "      <td>Student</td>\n",
              "      <td>13.45</td>\n",
              "      <td>2023-10-16 17:51:24</td>\n",
              "      <td>Credit</td>\n",
              "      <td>Atlanta</td>\n",
              "      <td>D000308</td>\n",
              "      <td>65.164.3.100</td>\n",
              "      <td>M091</td>\n",
              "      <td>Online</td>\n",
              "      <td>26</td>\n",
              "      <td>198</td>\n",
              "      <td>1</td>\n",
              "      <td>7429.40</td>\n",
              "      <td>2024-11-04 08:06:39</td>\n",
              "      <td>0</td>\n",
              "    </tr>\n",
              "  </tbody>\n",
              "</table>\n",
              "</div>\n",
              "    <div class=\"colab-df-buttons\">\n",
              "\n",
              "  <div class=\"colab-df-container\">\n",
              "    <button class=\"colab-df-convert\" onclick=\"convertToInteractive('df-6cda16a7-2c2f-4cd3-990f-b58db64608a3')\"\n",
              "            title=\"Convert this dataframe to an interactive table.\"\n",
              "            style=\"display:none;\">\n",
              "\n",
              "  <svg xmlns=\"http://www.w3.org/2000/svg\" height=\"24px\" viewBox=\"0 -960 960 960\">\n",
              "    <path d=\"M120-120v-720h720v720H120Zm60-500h600v-160H180v160Zm220 220h160v-160H400v160Zm0 220h160v-160H400v160ZM180-400h160v-160H180v160Zm440 0h160v-160H620v160ZM180-180h160v-160H180v160Zm440 0h160v-160H620v160Z\"/>\n",
              "  </svg>\n",
              "    </button>\n",
              "\n",
              "  <style>\n",
              "    .colab-df-container {\n",
              "      display:flex;\n",
              "      gap: 12px;\n",
              "    }\n",
              "\n",
              "    .colab-df-convert {\n",
              "      background-color: #E8F0FE;\n",
              "      border: none;\n",
              "      border-radius: 50%;\n",
              "      cursor: pointer;\n",
              "      display: none;\n",
              "      fill: #1967D2;\n",
              "      height: 32px;\n",
              "      padding: 0 0 0 0;\n",
              "      width: 32px;\n",
              "    }\n",
              "\n",
              "    .colab-df-convert:hover {\n",
              "      background-color: #E2EBFA;\n",
              "      box-shadow: 0px 1px 2px rgba(60, 64, 67, 0.3), 0px 1px 3px 1px rgba(60, 64, 67, 0.15);\n",
              "      fill: #174EA6;\n",
              "    }\n",
              "\n",
              "    .colab-df-buttons div {\n",
              "      margin-bottom: 4px;\n",
              "    }\n",
              "\n",
              "    [theme=dark] .colab-df-convert {\n",
              "      background-color: #3B4455;\n",
              "      fill: #D2E3FC;\n",
              "    }\n",
              "\n",
              "    [theme=dark] .colab-df-convert:hover {\n",
              "      background-color: #434B5C;\n",
              "      box-shadow: 0px 1px 3px 1px rgba(0, 0, 0, 0.15);\n",
              "      filter: drop-shadow(0px 1px 2px rgba(0, 0, 0, 0.3));\n",
              "      fill: #FFFFFF;\n",
              "    }\n",
              "  </style>\n",
              "\n",
              "    <script>\n",
              "      const buttonEl =\n",
              "        document.querySelector('#df-6cda16a7-2c2f-4cd3-990f-b58db64608a3 button.colab-df-convert');\n",
              "      buttonEl.style.display =\n",
              "        google.colab.kernel.accessAllowed ? 'block' : 'none';\n",
              "\n",
              "      async function convertToInteractive(key) {\n",
              "        const element = document.querySelector('#df-6cda16a7-2c2f-4cd3-990f-b58db64608a3');\n",
              "        const dataTable =\n",
              "          await google.colab.kernel.invokeFunction('convertToInteractive',\n",
              "                                                    [key], {});\n",
              "        if (!dataTable) return;\n",
              "\n",
              "        const docLinkHtml = 'Like what you see? Visit the ' +\n",
              "          '<a target=\"_blank\" href=https://colab.research.google.com/notebooks/data_table.ipynb>data table notebook</a>'\n",
              "          + ' to learn more about interactive tables.';\n",
              "        element.innerHTML = '';\n",
              "        dataTable['output_type'] = 'display_data';\n",
              "        await google.colab.output.renderOutput(dataTable, element);\n",
              "        const docLink = document.createElement('div');\n",
              "        docLink.innerHTML = docLinkHtml;\n",
              "        element.appendChild(docLink);\n",
              "      }\n",
              "    </script>\n",
              "  </div>\n",
              "\n",
              "\n",
              "<div id=\"df-92df2f9e-84d7-4146-ad0e-a5c6f19ecb08\">\n",
              "  <button class=\"colab-df-quickchart\" onclick=\"quickchart('df-92df2f9e-84d7-4146-ad0e-a5c6f19ecb08')\"\n",
              "            title=\"Suggest charts\"\n",
              "            style=\"display:none;\">\n",
              "\n",
              "<svg xmlns=\"http://www.w3.org/2000/svg\" height=\"24px\"viewBox=\"0 0 24 24\"\n",
              "     width=\"24px\">\n",
              "    <g>\n",
              "        <path d=\"M19 3H5c-1.1 0-2 .9-2 2v14c0 1.1.9 2 2 2h14c1.1 0 2-.9 2-2V5c0-1.1-.9-2-2-2zM9 17H7v-7h2v7zm4 0h-2V7h2v10zm4 0h-2v-4h2v4z\"/>\n",
              "    </g>\n",
              "</svg>\n",
              "  </button>\n",
              "\n",
              "<style>\n",
              "  .colab-df-quickchart {\n",
              "      --bg-color: #E8F0FE;\n",
              "      --fill-color: #1967D2;\n",
              "      --hover-bg-color: #E2EBFA;\n",
              "      --hover-fill-color: #174EA6;\n",
              "      --disabled-fill-color: #AAA;\n",
              "      --disabled-bg-color: #DDD;\n",
              "  }\n",
              "\n",
              "  [theme=dark] .colab-df-quickchart {\n",
              "      --bg-color: #3B4455;\n",
              "      --fill-color: #D2E3FC;\n",
              "      --hover-bg-color: #434B5C;\n",
              "      --hover-fill-color: #FFFFFF;\n",
              "      --disabled-bg-color: #3B4455;\n",
              "      --disabled-fill-color: #666;\n",
              "  }\n",
              "\n",
              "  .colab-df-quickchart {\n",
              "    background-color: var(--bg-color);\n",
              "    border: none;\n",
              "    border-radius: 50%;\n",
              "    cursor: pointer;\n",
              "    display: none;\n",
              "    fill: var(--fill-color);\n",
              "    height: 32px;\n",
              "    padding: 0;\n",
              "    width: 32px;\n",
              "  }\n",
              "\n",
              "  .colab-df-quickchart:hover {\n",
              "    background-color: var(--hover-bg-color);\n",
              "    box-shadow: 0 1px 2px rgba(60, 64, 67, 0.3), 0 1px 3px 1px rgba(60, 64, 67, 0.15);\n",
              "    fill: var(--button-hover-fill-color);\n",
              "  }\n",
              "\n",
              "  .colab-df-quickchart-complete:disabled,\n",
              "  .colab-df-quickchart-complete:disabled:hover {\n",
              "    background-color: var(--disabled-bg-color);\n",
              "    fill: var(--disabled-fill-color);\n",
              "    box-shadow: none;\n",
              "  }\n",
              "\n",
              "  .colab-df-spinner {\n",
              "    border: 2px solid var(--fill-color);\n",
              "    border-color: transparent;\n",
              "    border-bottom-color: var(--fill-color);\n",
              "    animation:\n",
              "      spin 1s steps(1) infinite;\n",
              "  }\n",
              "\n",
              "  @keyframes spin {\n",
              "    0% {\n",
              "      border-color: transparent;\n",
              "      border-bottom-color: var(--fill-color);\n",
              "      border-left-color: var(--fill-color);\n",
              "    }\n",
              "    20% {\n",
              "      border-color: transparent;\n",
              "      border-left-color: var(--fill-color);\n",
              "      border-top-color: var(--fill-color);\n",
              "    }\n",
              "    30% {\n",
              "      border-color: transparent;\n",
              "      border-left-color: var(--fill-color);\n",
              "      border-top-color: var(--fill-color);\n",
              "      border-right-color: var(--fill-color);\n",
              "    }\n",
              "    40% {\n",
              "      border-color: transparent;\n",
              "      border-right-color: var(--fill-color);\n",
              "      border-top-color: var(--fill-color);\n",
              "    }\n",
              "    60% {\n",
              "      border-color: transparent;\n",
              "      border-right-color: var(--fill-color);\n",
              "    }\n",
              "    80% {\n",
              "      border-color: transparent;\n",
              "      border-right-color: var(--fill-color);\n",
              "      border-bottom-color: var(--fill-color);\n",
              "    }\n",
              "    90% {\n",
              "      border-color: transparent;\n",
              "      border-bottom-color: var(--fill-color);\n",
              "    }\n",
              "  }\n",
              "</style>\n",
              "\n",
              "  <script>\n",
              "    async function quickchart(key) {\n",
              "      const quickchartButtonEl =\n",
              "        document.querySelector('#' + key + ' button');\n",
              "      quickchartButtonEl.disabled = true;  // To prevent multiple clicks.\n",
              "      quickchartButtonEl.classList.add('colab-df-spinner');\n",
              "      try {\n",
              "        const charts = await google.colab.kernel.invokeFunction(\n",
              "            'suggestCharts', [key], {});\n",
              "      } catch (error) {\n",
              "        console.error('Error during call to suggestCharts:', error);\n",
              "      }\n",
              "      quickchartButtonEl.classList.remove('colab-df-spinner');\n",
              "      quickchartButtonEl.classList.add('colab-df-quickchart-complete');\n",
              "    }\n",
              "    (() => {\n",
              "      let quickchartButtonEl =\n",
              "        document.querySelector('#df-92df2f9e-84d7-4146-ad0e-a5c6f19ecb08 button');\n",
              "      quickchartButtonEl.style.display =\n",
              "        google.colab.kernel.accessAllowed ? 'block' : 'none';\n",
              "    })();\n",
              "  </script>\n",
              "</div>\n",
              "\n",
              "    </div>\n",
              "  </div>\n"
            ],
            "application/vnd.google.colaboratory.intrinsic+json": {
              "type": "dataframe",
              "variable_name": "dataset_inisiasi_df",
              "summary": "{\n  \"name\": \"dataset_inisiasi_df\",\n  \"rows\": 2512,\n  \"fields\": [\n    {\n      \"column\": \"TransactionID\",\n      \"properties\": {\n        \"dtype\": \"string\",\n        \"num_unique_values\": 2512,\n        \"samples\": [\n          \"TX002082\",\n          \"TX000434\",\n          \"TX001725\"\n        ],\n        \"semantic_type\": \"\",\n        \"description\": \"\"\n      }\n    },\n    {\n      \"column\": \"AccountID\",\n      \"properties\": {\n        \"dtype\": \"category\",\n        \"num_unique_values\": 495,\n        \"samples\": [\n          \"AC00059\",\n          \"AC00022\",\n          \"AC00012\"\n        ],\n        \"semantic_type\": \"\",\n        \"description\": \"\"\n      }\n    },\n    {\n      \"column\": \"CustomerOccupation\",\n      \"properties\": {\n        \"dtype\": \"category\",\n        \"num_unique_values\": 4,\n        \"samples\": [\n          \"Student\",\n          \"Engineer\",\n          \"Doctor\"\n        ],\n        \"semantic_type\": \"\",\n        \"description\": \"\"\n      }\n    },\n    {\n      \"column\": \"TransactionAmount\",\n      \"properties\": {\n        \"dtype\": \"number\",\n        \"std\": 291.9462433824229,\n        \"min\": 0.26,\n        \"max\": 1919.11,\n        \"num_unique_values\": 2455,\n        \"samples\": [\n          124.74,\n          821.54,\n          19.11\n        ],\n        \"semantic_type\": \"\",\n        \"description\": \"\"\n      }\n    },\n    {\n      \"column\": \"TransactionDate\",\n      \"properties\": {\n        \"dtype\": \"object\",\n        \"num_unique_values\": 2512,\n        \"samples\": [\n          \"2023-12-11 17:28:44\",\n          \"2023-07-05 16:08:25\",\n          \"2023-02-13 17:58:45\"\n        ],\n        \"semantic_type\": \"\",\n        \"description\": \"\"\n      }\n    },\n    {\n      \"column\": \"TransactionType\",\n      \"properties\": {\n        \"dtype\": \"category\",\n        \"num_unique_values\": 2,\n        \"samples\": [\n          \"Credit\",\n          \"Debit\"\n        ],\n        \"semantic_type\": \"\",\n        \"description\": \"\"\n      }\n    },\n    {\n      \"column\": \"Location\",\n      \"properties\": {\n        \"dtype\": \"category\",\n        \"num_unique_values\": 43,\n        \"samples\": [\n          \"Phoenix\",\n          \"San Jose\"\n        ],\n        \"semantic_type\": \"\",\n        \"description\": \"\"\n      }\n    },\n    {\n      \"column\": \"DeviceID\",\n      \"properties\": {\n        \"dtype\": \"category\",\n        \"num_unique_values\": 681,\n        \"samples\": [\n          \"D000062\",\n          \"D000564\"\n        ],\n        \"semantic_type\": \"\",\n        \"description\": \"\"\n      }\n    },\n    {\n      \"column\": \"IP Address\",\n      \"properties\": {\n        \"dtype\": \"category\",\n        \"num_unique_values\": 592,\n        \"samples\": [\n          \"199.59.68.207\",\n          \"22.196.202.183\"\n        ],\n        \"semantic_type\": \"\",\n        \"description\": \"\"\n      }\n    },\n    {\n      \"column\": \"MerchantID\",\n      \"properties\": {\n        \"dtype\": \"category\",\n        \"num_unique_values\": 100,\n        \"samples\": [\n          \"M072\",\n          \"M032\"\n        ],\n        \"semantic_type\": \"\",\n        \"description\": \"\"\n      }\n    },\n    {\n      \"column\": \"Channel\",\n      \"properties\": {\n        \"dtype\": \"category\",\n        \"num_unique_values\": 3,\n        \"samples\": [\n          \"ATM\",\n          \"Online\"\n        ],\n        \"semantic_type\": \"\",\n        \"description\": \"\"\n      }\n    },\n    {\n      \"column\": \"CustomerAge\",\n      \"properties\": {\n        \"dtype\": \"number\",\n        \"std\": 17,\n        \"min\": 18,\n        \"max\": 80,\n        \"num_unique_values\": 63,\n        \"samples\": [\n          73,\n          77\n        ],\n        \"semantic_type\": \"\",\n        \"description\": \"\"\n      }\n    },\n    {\n      \"column\": \"TransactionDuration\",\n      \"properties\": {\n        \"dtype\": \"number\",\n        \"std\": 69,\n        \"min\": 10,\n        \"max\": 300,\n        \"num_unique_values\": 288,\n        \"samples\": [\n          138,\n          37\n        ],\n        \"semantic_type\": \"\",\n        \"description\": \"\"\n      }\n    },\n    {\n      \"column\": \"LoginAttempts\",\n      \"properties\": {\n        \"dtype\": \"number\",\n        \"std\": 0,\n        \"min\": 1,\n        \"max\": 5,\n        \"num_unique_values\": 5,\n        \"samples\": [\n          3,\n          4\n        ],\n        \"semantic_type\": \"\",\n        \"description\": \"\"\n      }\n    },\n    {\n      \"column\": \"AccountBalance\",\n      \"properties\": {\n        \"dtype\": \"number\",\n        \"std\": 3900.9424987311,\n        \"min\": 101.25,\n        \"max\": 14977.99,\n        \"num_unique_values\": 2510,\n        \"samples\": [\n          2018.9,\n          3651.07\n        ],\n        \"semantic_type\": \"\",\n        \"description\": \"\"\n      }\n    },\n    {\n      \"column\": \"PreviousTransactionDate\",\n      \"properties\": {\n        \"dtype\": \"object\",\n        \"num_unique_values\": 360,\n        \"samples\": [\n          \"2024-11-04 08:08:07\",\n          \"2024-11-04 08:09:53\"\n        ],\n        \"semantic_type\": \"\",\n        \"description\": \"\"\n      }\n    },\n    {\n      \"column\": \"Cluster\",\n      \"properties\": {\n        \"dtype\": \"number\",\n        \"std\": 0,\n        \"min\": 0,\n        \"max\": 2,\n        \"num_unique_values\": 3,\n        \"samples\": [\n          0,\n          2\n        ],\n        \"semantic_type\": \"\",\n        \"description\": \"\"\n      }\n    }\n  ]\n}"
            }
          },
          "metadata": {},
          "execution_count": 2
        }
      ]
    },
    {
      "cell_type": "code",
      "source": [
        "def encode_object_columns(dataframe):\n",
        "    label_encoders = {}\n",
        "    for col in dataframe.select_dtypes(include='object').columns:\n",
        "        encoder = LabelEncoder()\n",
        "        dataframe[col] = encoder.fit_transform(dataframe[col])\n",
        "        label_encoders[col] = encoder\n",
        "    return dataframe, label_encoders\n",
        "\n",
        "df, label_encoders = encode_object_columns(dataset_inisiasi_df)"
      ],
      "metadata": {
        "id": "GKKCXCb9nUke"
      },
      "execution_count": 3,
      "outputs": []
    },
    {
      "cell_type": "code",
      "source": [
        "print(dataset_inisiasi_df.head())"
      ],
      "metadata": {
        "colab": {
          "base_uri": "https://localhost:8080/"
        },
        "id": "xvEUpc6stvfR",
        "outputId": "25829bc3-51dc-4b0e-aeca-c55cafe5a37f"
      },
      "execution_count": 4,
      "outputs": [
        {
          "output_type": "stream",
          "name": "stdout",
          "text": [
            "   TransactionID  AccountID  CustomerOccupation  TransactionAmount  \\\n",
            "0              0        126                   0              14.09   \n",
            "1              1        450                   0             376.24   \n",
            "2              2         18                   3             126.29   \n",
            "3              3         68                   3             184.50   \n",
            "4              4        406                   3              13.45   \n",
            "\n",
            "   TransactionDate  TransactionType  Location  DeviceID  IP Address  \\\n",
            "0              684                1        36       365         186   \n",
            "1             1192                1        15        50          82   \n",
            "2             1276                1        23       229         343   \n",
            "3              823                1        33       182         300   \n",
            "4             1959                0         1       298         501   \n",
            "\n",
            "   MerchantID  Channel  CustomerAge  TransactionDuration  LoginAttempts  \\\n",
            "0          14        0           70                   81              1   \n",
            "1          51        0           68                  141              1   \n",
            "2           8        2           19                   56              1   \n",
            "3           1        2           26                   25              1   \n",
            "4          90        2           26                  198              1   \n",
            "\n",
            "   AccountBalance  PreviousTransactionDate  Cluster  \n",
            "0         5112.21                      105        0  \n",
            "1        13758.91                      192        2  \n",
            "2         1122.35                       41        1  \n",
            "3         8569.06                      163        0  \n",
            "4         7429.40                       16        0  \n"
          ]
        }
      ]
    },
    {
      "cell_type": "markdown",
      "source": [
        "# **3. Data Splitting**"
      ],
      "metadata": {
        "id": "KkPem5eWL2UP"
      }
    },
    {
      "cell_type": "markdown",
      "source": [
        "Tahap Data Splitting bertujuan untuk memisahkan dataset menjadi dua bagian: data latih (training set) dan data uji (test set)."
      ],
      "metadata": {
        "id": "YYj1rl_JNI9Y"
      }
    },
    {
      "cell_type": "code",
      "source": [
        "# Pisahkan fitur dan target\n",
        "X = df.drop(columns=['Cluster'])\n",
        "y = df['Cluster']\n",
        "\n",
        "# Split dataset\n",
        "X_train, X_test, y_train, y_test = train_test_split(\n",
        "    X, y, test_size=0.2, random_state=42\n",
        ")\n",
        "\n",
        "# Normalisasi fitur setelah split\n",
        "scaler = StandardScaler()\n",
        "X_train_scaled = scaler.fit_transform(X_train)\n",
        "X_test_scaled = scaler.transform(X_test)\n",
        "\n",
        "print(\"Dataset setelah proses split dan normalisasi:\\n\")\n",
        "print(f\"{'Dataset':<20} {'Features':<15} {'Labels':<15}\")\n",
        "print(f\"{'-'*45}\")\n",
        "print(f\"{'Training Set':<20} {X_train_scaled.shape[0]:<15} {y_train.shape[0]:<15}\")\n",
        "print(f\"{'Testing Set':<20} {X_test_scaled.shape[0]:<15} {y_test.shape[0]:<15}\")"
      ],
      "metadata": {
        "id": "OubAW-7ONKVj",
        "colab": {
          "base_uri": "https://localhost:8080/"
        },
        "outputId": "9017278c-58fd-4212-92b3-336daf06d0ac"
      },
      "execution_count": 5,
      "outputs": [
        {
          "output_type": "stream",
          "name": "stdout",
          "text": [
            "Dataset setelah proses split dan normalisasi:\n",
            "\n",
            "Dataset              Features        Labels         \n",
            "---------------------------------------------\n",
            "Training Set         2009            2009           \n",
            "Testing Set          503             503            \n"
          ]
        }
      ]
    },
    {
      "cell_type": "markdown",
      "source": [
        "# **4. Membangun Model Klasifikasi**\n"
      ],
      "metadata": {
        "id": "IVPbB03CMhTT"
      }
    },
    {
      "cell_type": "markdown",
      "source": [
        "## **a. Membangun Model Klasifikasi**"
      ],
      "metadata": {
        "id": "Ned1pL9zMmBK"
      }
    },
    {
      "cell_type": "markdown",
      "source": [
        "Setelah memilih algoritma klasifikasi yang sesuai, langkah selanjutnya adalah melatih model menggunakan data latih.\n",
        "\n",
        "Berikut adalah rekomendasi tahapannya.\n",
        "1. Pilih algoritma klasifikasi yang sesuai, seperti Logistic Regression, Decision Tree, Random Forest, atau K-Nearest Neighbors (KNN).\n",
        "2. Latih model menggunakan data latih."
      ],
      "metadata": {
        "id": "WAWzPOE4Nkti"
      }
    },
    {
      "cell_type": "code",
      "source": [
        "models = {\n",
        "    \"SVM\": SVC(),\n",
        "    \"K-Neighbors\": KNeighborsClassifier()\n",
        "}"
      ],
      "metadata": {
        "id": "4JYxBe87NLDk"
      },
      "execution_count": 6,
      "outputs": []
    },
    {
      "cell_type": "markdown",
      "source": [
        "Dalam proyek ini, saya menggunakan dua algoritma klasifikasi:\n",
        "* **K-Nearest Neighbors (KNN)**\n",
        "* **Support Vector Machine (SVM)**\n",
        "\n",
        "**KNN** bekerja dengan mencari sejumlah tetangga terdekat dari data baru, lalu menentukan kelas berdasarkan mayoritas label tetangga tersebut.\n",
        "Sedangkan **SVM** berusaha mencari garis pemisah terbaik yang memisahkan kelas-kelas dalam data, sehingga margin antar kelas menjadi sejauh mungkin.\n",
        "Keduanya digunakan untuk membandingkan performa dalam memprediksi hasil klasifikasi dari dataset yang sudah diproses."
      ],
      "metadata": {
        "id": "seYoHNY3XU1y"
      }
    },
    {
      "cell_type": "markdown",
      "source": [
        "## **b. Evaluasi Model Klasifikasi**"
      ],
      "metadata": {
        "id": "ergzChZFEL-O"
      }
    },
    {
      "cell_type": "markdown",
      "source": [
        "Berikut adalah **rekomendasi** tahapannya.\n",
        "1. Lakukan prediksi menggunakan data uji.\n",
        "2. Hitung metrik evaluasi seperti Accuracy dan F1-Score (Opsional: Precision dan Recall).\n",
        "3. Buat confusion matrix untuk melihat detail prediksi benar dan salah."
      ],
      "metadata": {
        "id": "zOm68u-7NpLT"
      }
    },
    {
      "cell_type": "code",
      "source": [
        "def evaluate_model(model, X_train, y_train, X_test, y_test):\n",
        "    model.fit(X_train, y_train)\n",
        "    y_pred = model.predict(X_test)\n",
        "    return {\n",
        "        \"accuracy\": accuracy_score(y_test, y_pred),\n",
        "        \"precision\": precision_score(y_test, y_pred, average='weighted'),\n",
        "        \"recall\": recall_score(y_test, y_pred, average='weighted'),\n",
        "        \"f1\": f1_score(y_test, y_pred, average='weighted'),\n",
        "        \"confusion_matrix\": confusion_matrix(y_test, y_pred)\n",
        "    }\n",
        "\n",
        "def plot_confusion_matrix(models_metrics):\n",
        "    fig, axes = plt.subplots(1, len(models_metrics), figsize=(12, 5))\n",
        "    for i, (name, metrics) in enumerate(models_metrics.items()):\n",
        "        cm = metrics[\"confusion_matrix\"]\n",
        "        disp = ConfusionMatrixDisplay(confusion_matrix=cm)\n",
        "        disp.plot(ax=axes[i], cmap='Blues' if name == \"SVM\" else 'Oranges')\n",
        "        axes[i].set_title(f\"Confusion Matrix - {name}\")\n",
        "    plt.tight_layout()\n",
        "    plt.show()\n",
        "\n",
        "def main(X, y):\n",
        "    X_train, X_test, y_train, y_test = train_test_split(X, y, test_size=0.2, random_state=42)\n",
        "    models_metrics = {}\n",
        "    for name, model in models.items():\n",
        "        metrics = evaluate_model(model, X_train, y_train, X_test, y_test)\n",
        "        models_metrics[name] = metrics\n",
        "        print(f\"{name} - Accuracy: {metrics['accuracy']:.4f}\")\n",
        "    plot_confusion_matrix(models_metrics)\n",
        "\n",
        "main(X, y)"
      ],
      "metadata": {
        "id": "tXgNhFZgu3D_",
        "colab": {
          "base_uri": "https://localhost:8080/",
          "height": 572
        },
        "outputId": "7959fbcd-4111-4007-8967-71222b3609a4"
      },
      "execution_count": 7,
      "outputs": [
        {
          "output_type": "stream",
          "name": "stdout",
          "text": [
            "SVM - Accuracy: 0.9940\n",
            "K-Neighbors - Accuracy: 0.9841\n"
          ]
        },
        {
          "output_type": "display_data",
          "data": {
            "text/plain": [
              "<Figure size 1200x500 with 4 Axes>"
            ],
            "image/png": "[encoded data removed]"
          },
          "metadata": {}
        }
      ]
    },
    {
      "cell_type": "code",
      "source": [
        "accuracy_svm = 0.9940\n",
        "accuracy_knn = 0.9841\n",
        "\n",
        "# Visualisasi Perbandingan Akurasi\n",
        "models = [\"SVM\", \"K-Neighbors\"]\n",
        "accuracies = [accuracy_svm, accuracy_knn]\n",
        "\n",
        "plt.figure(figsize=(6, 4))\n",
        "plt.bar(models, accuracies, color=['blue', 'orange'])\n",
        "plt.ylim(0, 1)\n",
        "plt.xlabel(\"Model\")\n",
        "plt.ylabel(\"Akurasi\")\n",
        "plt.title(\"Perbandingan Akurasi Model SVM dan K-Neighbors\")\n",
        "plt.show()\n",
        "\n",
        "# Analisis Perbandingan Model\n",
        "print(\"Perbandingan Performa Model:\")\n",
        "if accuracy_knn > accuracy_svm: # Changed accuracy_rf to accuracy_knn\n",
        "    print(\"K-Neighbors memiliki akurasi lebih tinggi.\") # Changed message to reflect K-Neighbors\n",
        "elif accuracy_svm > accuracy_knn: # Changed accuracy_rf to accuracy_knn\n",
        "    print(\"SVM memiliki akurasi lebih tinggi.\")\n",
        "else:\n",
        "    print(\"Kedua model memiliki akurasi yang sama.\")"
      ],
      "metadata": {
        "colab": {
          "base_uri": "https://localhost:8080/",
          "height": 445
        },
        "id": "RAXrzmWV0qnK",
        "outputId": "0769c68a-e16c-494d-8e7b-f8d8b11d884e"
      },
      "execution_count": 8,
      "outputs": [
        {
          "output_type": "display_data",
          "data": {
            "text/plain": [
              "<Figure size 600x400 with 1 Axes>"
            ],
            "image/png": "[encoded data removed]"
          },
          "metadata": {}
        },
        {
          "output_type": "stream",
          "name": "stdout",
          "text": [
            "Perbandingan Performa Model:\n",
            "SVM memiliki akurasi lebih tinggi.\n"
          ]
        }
      ]
    },
    {
      "cell_type": "markdown",
      "source": [
        "Saya menguji dua algoritma klasifikasi, yaitu **K-Neighbors (KNN)** dan **Support Vector Machine (SVM),** untuk melihat performanya dalam mengklasifikasikan data. Hasilnya, **SVM** memberikan akurasi yang sangat tinggi, yaitu 99.40%, menunjukkan bahwa model ini sangat efektif dalam mengenali pola data. Di sisi lain, **KNN** menghasilkan akurasi 98.41%, yang sedikit lebih rendah namun masih tergolong sangat baik. Meskipun selisihnya tidak terlalu besar, SVM sedikit lebih unggul dalam hal akurasi."
      ],
      "metadata": {
        "id": "H4_9OwrsXZlz"
      }
    },
    {
      "cell_type": "markdown",
      "source": [
        "## **c. Tuning Model Klasifikasi (Optional)**"
      ],
      "metadata": {
        "id": "ph9yIYDXEPuB"
      }
    },
    {
      "cell_type": "markdown",
      "source": [
        "Gunakan GridSearchCV, RandomizedSearchCV, atau metode lainnya untuk mencari kombinasi hyperparameter terbaik"
      ],
      "metadata": {
        "id": "-Bikx3LINv5e"
      }
    },
    {
      "cell_type": "code",
      "source": [
        "param_svm = {\n",
        "    'C': [0.1, 1, 10, 100],\n",
        "    'kernel': ['linear', 'poly', 'rbf', 'sigmoid'],\n",
        "    'gamma': ['scale', 'auto'],\n",
        "    'degree': [3, 4, 5],\n",
        "}\n",
        "\n",
        "random_search_svm = RandomizedSearchCV(\n",
        "    SVC(random_state=42),\n",
        "    param_distributions=param_svm,\n",
        "    n_iter=10,\n",
        "    cv=5,\n",
        "    scoring='accuracy',\n",
        "    random_state=42,\n",
        "    n_jobs=-1\n",
        ")\n",
        "\n",
        "random_search_svm.fit(X_train, y_train)\n",
        "best_svm = random_search_svm.best_estimator_\n",
        "\n",
        "print(\"Best Hyperparameters for SVM:\")\n",
        "print(random_search_svm.best_params_)\n"
      ],
      "metadata": {
        "id": "winbFzb8NL95",
        "colab": {
          "base_uri": "https://localhost:8080/"
        },
        "outputId": "f5b41b82-2820-4f3f-bd02-a0deaaac3571"
      },
      "execution_count": 9,
      "outputs": [
        {
          "output_type": "stream",
          "name": "stdout",
          "text": [
            "Best Hyperparameters for SVM:\n",
            "{'kernel': 'poly', 'gamma': 'scale', 'degree': 3, 'C': 100}\n"
          ]
        }
      ]
    },
    {
      "cell_type": "code",
      "source": [
        "param_knn = {\n",
        "    'n_neighbors': [3, 5, 7, 9, 11],\n",
        "    'weights': ['uniform', 'distance'],\n",
        "    'algorithm': ['auto', 'ball_tree', 'kd_tree', 'brute'],\n",
        "    'leaf_size': [20, 30, 40, 50],\n",
        "    'p': [1, 2]  # 1 for Manhattan, 2 for Euclidean\n",
        "}\n",
        "\n",
        "random_search_knn = RandomizedSearchCV(\n",
        "    KNeighborsClassifier(),\n",
        "    param_distributions=param_knn,\n",
        "    n_iter=10,\n",
        "    cv=5,\n",
        "    scoring='accuracy',\n",
        "    random_state=42,\n",
        "    n_jobs=-1\n",
        ")\n",
        "\n",
        "random_search_knn.fit(X_train, y_train)\n",
        "best_knn = random_search_knn.best_estimator_\n",
        "\n",
        "print(\"Best Hyperparameters for KNN:\")\n",
        "print(random_search_knn.best_params_)"
      ],
      "metadata": {
        "colab": {
          "base_uri": "https://localhost:8080/"
        },
        "id": "mzQl0UTO3fkj",
        "outputId": "2b422d25-03da-48b5-8d16-b17a2b39f31c"
      },
      "execution_count": 10,
      "outputs": [
        {
          "output_type": "stream",
          "name": "stdout",
          "text": [
            "Best Hyperparameters for KNN:\n",
            "{'weights': 'distance', 'p': 1, 'n_neighbors': 7, 'leaf_size': 20, 'algorithm': 'auto'}\n"
          ]
        }
      ]
    },
    {
      "cell_type": "markdown",
      "source": [
        "## **d. Evaluasi Model Klasifikasi setelah Tuning (Optional)**"
      ],
      "metadata": {
        "id": "hE7pqlEPEYzI"
      }
    },
    {
      "cell_type": "markdown",
      "source": [
        "Berikut adalah rekomendasi tahapannya.\n",
        "1. Gunakan model dengan hyperparameter terbaik.\n",
        "2. Hitung ulang metrik evaluasi untuk melihat apakah ada peningkatan performa."
      ],
      "metadata": {
        "id": "feaPESoeN0zz"
      }
    },
    {
      "cell_type": "code",
      "source": [
        "#Type your code here"
      ],
      "metadata": {
        "id": "HTXZRvEeNMb1"
      },
      "execution_count": 11,
      "outputs": []
    },
    {
      "cell_type": "markdown",
      "source": [
        "## **e. Analisis Hasil Evaluasi Model Klasifikasi**"
      ],
      "metadata": {
        "id": "ZRsOdm4uEgAW"
      }
    },
    {
      "cell_type": "markdown",
      "source": [
        "#### **Berikut adalah hasil dari hyperparameter tuning dan rekomendasi untuk langkah selanjutnya, menggunakan model SVM dan KNN.**"
      ],
      "metadata": {
        "id": "douEI5N94t8s"
      }
    },
    {
      "cell_type": "markdown",
      "source": [
        "**Hasil Hyperparameter Tuning:**\n",
        "\n",
        "**SVM:**\n",
        "\n",
        "* Kernel: Polynomial (polynomial)\n",
        "\n",
        "* Gamma: Scale\n",
        "\n",
        "* Degree: 3\n",
        "\n",
        "* C: 100\n",
        "\n",
        "**KNN:**\n",
        "\n",
        "* Weights: Distance\n",
        "\n",
        "* p: 1 (Manhattan distance)\n",
        "\n",
        "* n_neighbors: 7\n",
        "\n",
        "* Leaf size: 20\n",
        "\n",
        "* Algorithm: Auto"
      ],
      "metadata": {
        "id": "dPzGVi2w40PK"
      }
    },
    {
      "cell_type": "markdown",
      "source": [
        "**SVM:**\n",
        "\n",
        "* Dengan menggunakan kernel polynomial, SVM dapat menangani data yang lebih kompleks dan tidak linier dengan lebih baik. Parameter C yang lebih besar membuat model menjadi lebih sensitif terhadap kesalahan, sehingga model menjadi lebih ketat dan akurasi meningkat.\n",
        "\n",
        "* Pengaturan gamma ke scale membantu model untuk lebih peka terhadap data yang dekat dengan batas klasifikasi, yang dapat meningkatkan akurasi prediksi.\n",
        "\n",
        "**KNN:**\n",
        "\n",
        "* Dengan menggunakan Manhattan distance (p=1), KNN lebih cocok untuk data yang memiliki hubungan antar fitur yang tidak linier. Menetapkan jumlah tetangga sebanyak 7 memberikan keseimbangan yang baik antara overfitting dan underfitting, menjaga model tetap umum dan tidak terlalu spesifik.\n",
        "\n",
        "* Pengaturan weights ke distance memberikan bobot lebih besar pada tetangga yang lebih dekat, hal ini berguna ketika distribusi data tidak merata.\n",
        "\n",
        "### *Rekomendasi Langkah Lanjutan:*\n",
        "\n",
        "**Mengumpulkan Data Tambahan:**\n",
        "\n",
        "* Jika dataset terlalu kecil atau tidak seimbang, model mungkin kesulitan untuk belajar, terutama pada kelas yang jarang muncul. Menambah data, terutama untuk kelas yang lebih jarang, bisa membantu meningkatkan performa model.\n",
        "\n",
        "**Coba Algoritma Lain:**\n",
        "\n",
        "* Jika KNN tidak memberikan hasil yang memuaskan, cobalah menggunakan algoritma lain seperti Random Forest atau XGBoost, yang lebih kuat dalam menangani data berisik dan fitur yang kompleks.\n",
        "\n",
        "* Untuk SVM, jika hasilnya masih kurang baik, Neural Networks (Deep Learning) bisa menjadi pilihan, terutama jika dataset yang dimiliki cukup besar dan kompleks.\n",
        "\n",
        "**Tuning Hyperparameter:**\n",
        "\n",
        "* KNN: Untuk menghindari overfitting, coba eksperimen dengan nilai k yang lebih optimal. Salah satu cara yang dapat digunakan adalah dengan menggunakan GridSearch untuk mencari nilai k terbaik yang sesuai dengan data.\n",
        "\n",
        "* SVM: Cobalah berbagai jenis kernel (seperti linear, polynomial, atau RBF) dan sesuaikan nilai C dan gamma untuk mencari kombinasi yang memberikan hasil terbaik tanpa menyebabkan overfitting."
      ],
      "metadata": {
        "id": "zvCFXuei40Lo"
      }
    },
    {
      "cell_type": "code",
      "source": [],
      "metadata": {
        "id": "7-bdsClynixE"
      },
      "execution_count": 11,
      "outputs": []
    }
  ]
}